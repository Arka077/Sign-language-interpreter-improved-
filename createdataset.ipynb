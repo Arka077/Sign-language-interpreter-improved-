{
 "cells": [
  {
   "cell_type": "code",
   "execution_count": 19,
   "metadata": {},
   "outputs": [],
   "source": [
    "import os\n",
    "import cv2\n",
    "import mediapipe as mp\n",
    "import numpy as np\n",
    "import math\n",
    "import time"
   ]
  },
  {
   "cell_type": "code",
   "execution_count": 20,
   "metadata": {},
   "outputs": [],
   "source": [
    "folder=\"AAROHAN\"\n",
    "if not os.path.exists(folder):\n",
    "    os.makedirs(folder)\n",
    "    print(f\"Created directory: {folder}\")\n",
    "counter=0"
   ]
  },
  {
   "cell_type": "code",
   "execution_count": 21,
   "metadata": {},
   "outputs": [],
   "source": [
    "cap=cv2.VideoCapture(0)\n",
    "cap.set(cv2.CAP_PROP_FRAME_WIDTH, 1280)\n",
    "cap.set(cv2.CAP_PROP_FRAME_HEIGHT, 720)\n",
    "imgSize=224"
   ]
  },
  {
   "cell_type": "code",
   "execution_count": 22,
   "metadata": {},
   "outputs": [],
   "source": [
    "mpHands=mp.solutions.hands\n",
    "hands=mpHands.Hands()\n",
    "mpDraw=mp.solutions.drawing_utils"
   ]
  },
  {
   "cell_type": "code",
   "execution_count": 23,
   "metadata": {},
   "outputs": [],
   "source": [
    "pTime=0\n",
    "cTime=0"
   ]
  },
  {
   "cell_type": "code",
   "execution_count": 24,
   "metadata": {},
   "outputs": [],
   "source": [
    "def fps_calculation(img,pTime):\n",
    "    cTime=time.time()\n",
    "    fps=int(1/(cTime-pTime))\n",
    "    pTime=cTime\n",
    "    cv2.putText(\n",
    "        img, f\"FPS:{fps}\", (10, 70), cv2.FONT_HERSHEY_PLAIN, 2, (255, 0, 255), 2\n",
    "    )\n",
    "    return pTime"
   ]
  },
  {
   "cell_type": "code",
   "execution_count": 25,
   "metadata": {},
   "outputs": [],
   "source": [
    "def crop_hands(img, handLms):\n",
    "    h, w, c = img.shape\n",
    "    x_min, y_min = w, h\n",
    "    x_max, y_max = 0, 0\n",
    "\n",
    "    for lm in handLms.landmark:\n",
    "        x, y = int(lm.x * w), int(lm.y * h)\n",
    "\n",
    "        x_min = min(x_min, x)\n",
    "        y_min = min(y_min, y)\n",
    "\n",
    "        x_max = max(x_max, x)\n",
    "        y_max = max(y_max, y)\n",
    "\n",
    "    padding = 40\n",
    "    x_min = max(0, x_min - padding)\n",
    "    y_min = max(0, y_min - padding)\n",
    "    x_max = min(w, x_max + padding)\n",
    "    y_max = min(h, y_max + padding)\n",
    "\n",
    "    cropped_img = img[y_min:y_max, x_min:x_max]\n",
    "\n",
    "    return cropped_img, (x_min, y_min, x_max, y_max)"
   ]
  },
  {
   "cell_type": "code",
   "execution_count": 26,
   "metadata": {},
   "outputs": [],
   "source": [
    "while True:\n",
    "    success, img = cap.read()\n",
    "    imgRgb = cv2.cvtColor(img, cv2.COLOR_BGR2RGB)\n",
    "    results = hands.process(imgRgb)\n",
    "\n",
    "    imgLandmarksOnly = np.ones((720, 1280, 3), np.uint8) * 255\n",
    "    if results.multi_hand_landmarks:\n",
    "        for handLms in results.multi_hand_landmarks:\n",
    "            cropped_image, bbox = crop_hands(imgLandmarksOnly, handLms)\n",
    "            \n",
    "            \n",
    "\n",
    "            if cropped_image.size == 0:\n",
    "                print(\"Warning: Empty cropped image. Skipping frame.\")\n",
    "                continue\n",
    "\n",
    "            x_min, y_min, x_max, y_max = bbox\n",
    "            cv2.rectangle(img, (x_min, y_min), (x_max, y_max), (0, 255, 0), 2)\n",
    "            mpDraw.draw_landmarks(img, handLms, mpHands.HAND_CONNECTIONS)\n",
    "            mpDraw.draw_landmarks(imgLandmarksOnly, handLms, mpHands.HAND_CONNECTIONS)\n",
    "\n",
    "            h, w = cropped_image.shape[:2]\n",
    "\n",
    "            imgWhite = np.ones((imgSize, imgSize, 3), np.uint8) * 255\n",
    "\n",
    "            aspect_ratio = h / w\n",
    "\n",
    "            if aspect_ratio > 1:\n",
    "                k = imgSize / h\n",
    "                wCal = int(math.ceil(k * w))\n",
    "                imgResize = cv2.resize(cropped_image, (wCal, imgSize))\n",
    "                imgResizeShape = imgResize.shape\n",
    "                wGap = math.ceil((imgSize - wCal) //2)\n",
    "                imgWhite[ : , wGap : wCal + wGap] = imgResize\n",
    "\n",
    "            else:\n",
    "                k = imgSize / w\n",
    "                hCal = int(math.ceil(k * h))\n",
    "                imgResize = cv2.resize(cropped_image, (imgSize, hCal))\n",
    "                imgResizeShape = imgResize.shape\n",
    "                hGap = math.ceil((imgSize - hCal) // 2)\n",
    "                imgWhite[hGap : hGap + hCal,  :] = imgResize\n",
    "            \n",
    "\n",
    "            cv2.imshow(\"Hand Landmarks Only\", imgLandmarksOnly)\n",
    "            cv2.imshow(\"ImageWhite\", imgWhite)\n",
    "            cv2.imshow(\"Cropped Hand\", cropped_image)\n",
    "\n",
    "    fps = fps_calculation(img, pTime)\n",
    "    cv2.imshow(\"Image\", img)\n",
    "\n",
    "    key1 = cv2.waitKey(1) & 0xFF\n",
    "    if key1 == ord(\"s\"):\n",
    "        counter += 1\n",
    "        cv2.imwrite(f\"{folder}/Image{time.time()}.jpg\", imgWhite)\n",
    "        print(counter)\n",
    "\n",
    "    key2=cv2.waitKey(1)\n",
    "    if key2 == ord(\"q\") or key2 == 27:\n",
    "        break\n"
   ]
  },
  {
   "cell_type": "code",
   "execution_count": 27,
   "metadata": {},
   "outputs": [],
   "source": [
    "cap.release()\n",
    "cv2.destroyAllWindows()"
   ]
  }
 ],
 "metadata": {
  "kernelspec": {
   "display_name": "Python 3",
   "language": "python",
   "name": "python3"
  },
  "language_info": {
   "codemirror_mode": {
    "name": "ipython",
    "version": 3
   },
   "file_extension": ".py",
   "mimetype": "text/x-python",
   "name": "python",
   "nbconvert_exporter": "python",
   "pygments_lexer": "ipython3",
   "version": "3.12.9"
  }
 },
 "nbformat": 4,
 "nbformat_minor": 2
}
